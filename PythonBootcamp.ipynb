{
 "cells": [
  {
   "cell_type": "markdown",
   "metadata": {},
   "source": [
    "<h1>Headline</h1>"
   ]
  },
  {
   "cell_type": "code",
   "execution_count": 135,
   "metadata": {},
   "outputs": [
    {
     "name": "stdout",
     "output_type": "stream",
     "text": [
      "lort\n",
      "<class 'str'>\n"
     ]
    }
   ],
   "source": [
    "conda = \"lort\";\n",
    "\n",
    "print(conda);\n",
    "print(type(conda));"
   ]
  },
  {
   "cell_type": "code",
   "execution_count": 127,
   "metadata": {},
   "outputs": [
    {
     "name": "stdout",
     "output_type": "stream",
     "text": [
      "Orange\n",
      "Banana\n",
      "Cheery\n"
     ]
    }
   ],
   "source": [
    "x, y, z = 'Orange', 'Banana', 'Cheery';\n",
    "print(x);\n",
    "print(y);\n",
    "print(z);"
   ]
  },
  {
   "cell_type": "code",
   "execution_count": 128,
   "metadata": {},
   "outputs": [
    {
     "name": "stdout",
     "output_type": "stream",
     "text": [
      "Orange\n",
      "Orange\n",
      "Orange\n"
     ]
    }
   ],
   "source": [
    "x = y = z = 'Orange';\n",
    "print(x);\n",
    "print(y);\n",
    "print(z);"
   ]
  },
  {
   "cell_type": "code",
   "execution_count": 129,
   "metadata": {},
   "outputs": [
    {
     "name": "stdout",
     "output_type": "stream",
     "text": [
      "['apple', 'banana', 'cherry']\n",
      "apple\n",
      "banana\n",
      "cherry\n",
      "apple\n"
     ]
    }
   ],
   "source": [
    "fruits = [\"apple\", \"banana\", \"cherry\"];\n",
    "print(fruits);\n",
    "\n",
    "x, y, z = fruits;\n",
    "print(x);\n",
    "print(y);\n",
    "print(z);\n",
    "\n",
    "x, y, z = fruits;\n",
    "print(x);"
   ]
  },
  {
   "cell_type": "markdown",
   "metadata": {},
   "source": [
    "',' insert spaces <br>\n",
    "'+' doesn't insert spaces"
   ]
  },
  {
   "cell_type": "code",
   "execution_count": 130,
   "metadata": {},
   "outputs": [
    {
     "name": "stdout",
     "output_type": "stream",
     "text": [
      "python is like php - black magic\n",
      "pythonislike php - black magic\n"
     ]
    }
   ],
   "source": [
    "x = \"python\";\n",
    "y = \"is\";\n",
    "z = \"like php - black magic\";\n",
    "print(x, y, z);\n",
    "print(x + y + z);"
   ]
  },
  {
   "cell_type": "code",
   "execution_count": 131,
   "metadata": {},
   "outputs": [
    {
     "name": "stdout",
     "output_type": "stream",
     "text": [
      "15\n",
      "<class 'int'>\n"
     ]
    }
   ],
   "source": [
    "a = 5;\n",
    "b = (int(\"10\"));\n",
    "print(a + b);\n",
    "print(type(a));"
   ]
  },
  {
   "cell_type": "code",
   "execution_count": 132,
   "metadata": {},
   "outputs": [
    {
     "name": "stdout",
     "output_type": "stream",
     "text": [
      "My favorite food is nutella\n",
      "nutella\n"
     ]
    }
   ],
   "source": [
    "# x = \"pancakes\";\n",
    "\n",
    "def favs():\n",
    "    global x;\n",
    "    x = \"nutella\";\n",
    "    print(\"My favorite food is\", x);\n",
    "\n",
    "favs();\n",
    "\n",
    "print(x);"
   ]
  },
  {
   "cell_type": "markdown",
   "metadata": {},
   "source": [
    "# Types"
   ]
  },
  {
   "cell_type": "code",
   "execution_count": 133,
   "metadata": {},
   "outputs": [],
   "source": [
    "q = \"Hello World\"                               #str    \n",
    "w = 20                                          #int    \n",
    "e = 20.5                                        #float    \n",
    "r = 1j                                          #complex    \n",
    "t = [\"apple\", \"banana\", \"cherry\"]               #list    \n",
    "y = (\"apple\", \"banana\", \"cherry\")               #tuple    \n",
    "u = range(6)                                    #range    \n",
    "o = {\"name\" : \"John\", \"age\" : 36}               #dict    \n",
    "p = {\"apple\", \"banana\", \"cherry\"}               #set    \n",
    "a = frozenset({\"apple\", \"banana\", \"cherry\"})    #frozenset    \n",
    "s = True                                        #bool    \n",
    "d = b\"Hello\"                                    #bytes    \n",
    "f = bytearray(5)                                #bytearray    \n",
    "g = memoryview(bytes(5))                        #memoryview    \n",
    "h = None"
   ]
  },
  {
   "cell_type": "markdown",
   "metadata": {},
   "source": [
    "# Conditions"
   ]
  },
  {
   "cell_type": "code",
   "execution_count": 136,
   "metadata": {},
   "outputs": [
    {
     "name": "stdout",
     "output_type": "stream",
     "text": [
      "b is not greater than a\n",
      "True\n",
      "False\n",
      "False\n",
      "True\n",
      "Yes!\n"
     ]
    }
   ],
   "source": [
    "a = 23;\n",
    "b = 1;\n",
    "\n",
    "if(b > a): \n",
    "    print(\"b is greater than a\");\n",
    "else:\n",
    "    print(\"b is not greater than a\");\n",
    "\n",
    "print(bool(\"Hello\"));   # True - not empty string\n",
    "print(bool(\"\"));        # False - empty string\n",
    "print(bool(b > a));\n",
    "print(bool(15));        # True - not 0\n",
    "\n",
    "def imHungry():\n",
    "    return True;\n",
    "\n",
    "if(imHungry()):\n",
    "    print(\"Yes!\");\n",
    "else:\n",
    "    print(\"No\");"
   ]
  },
  {
   "cell_type": "code",
   "execution_count": 137,
   "metadata": {},
   "outputs": [
    {
     "name": "stdout",
     "output_type": "stream",
     "text": [
      "True\n",
      "False\n"
     ]
    }
   ],
   "source": [
    "x = 500;\n",
    "print(isinstance(x, int));\n",
    "\n",
    "y = \"test\";\n",
    "print(isinstance(y, int));"
   ]
  },
  {
   "cell_type": "markdown",
   "metadata": {},
   "source": [
    "# Lists and Loops"
   ]
  },
  {
   "cell_type": "code",
   "execution_count": 138,
   "metadata": {},
   "outputs": [
    {
     "name": "stdout",
     "output_type": "stream",
     "text": [
      "apple\n",
      "banana\n",
      "cherry\n"
     ]
    }
   ],
   "source": [
    "newFruits = [\"apple\", \"banana\", \"cherry\"];\n",
    "\n",
    "for x in newFruits:\n",
    "    print(x);"
   ]
  },
  {
   "cell_type": "code",
   "execution_count": 139,
   "metadata": {},
   "outputs": [
    {
     "name": "stdout",
     "output_type": "stream",
     "text": [
      "2\n",
      "5\n",
      "8\n",
      "11\n",
      "14\n",
      "17\n",
      "20\n",
      "23\n",
      "26\n",
      "29\n"
     ]
    }
   ],
   "source": [
    "for x in range(2, 30, 3):\n",
    "    print(x);"
   ]
  },
  {
   "cell_type": "code",
   "execution_count": 142,
   "metadata": {},
   "outputs": [
    {
     "name": "stdout",
     "output_type": "stream",
     "text": [
      "1\n",
      "2\n",
      "4\n",
      "5\n",
      "6\n"
     ]
    }
   ],
   "source": [
    "i = 0;\n",
    "while (i < 6):\n",
    "    i += 1;\n",
    "    if (i == 3): \n",
    "        continue;\n",
    "    print(i);"
   ]
  },
  {
   "cell_type": "markdown",
   "metadata": {},
   "source": [
    "# DateTime"
   ]
  },
  {
   "cell_type": "code",
   "execution_count": 146,
   "metadata": {},
   "outputs": [
    {
     "name": "stdout",
     "output_type": "stream",
     "text": [
      "2022-09-19 12:30:16.342104\n",
      "2022\n",
      "Monday\n",
      "1337-04-27 12:00:00\n"
     ]
    }
   ],
   "source": [
    "import datetime\n",
    "\n",
    "x = datetime.datetime.now();\n",
    "\n",
    "print(x);\n",
    "print(x.year);\n",
    "print(x.strftime(\"%A\"));\n",
    "\n",
    "t = datetime.datetime(1337, 4, 27, 12, 00, 00);\n",
    "print(t);"
   ]
  },
  {
   "cell_type": "markdown",
   "metadata": {},
   "source": [
    "+ %a    #Weekday, short version    Wed    \n",
    "+ %A    #Weekday, full version    Wednesday    \n",
    "+ %w    #Weekday as a number 0-6, 0 is Sunday    3    \n",
    "+ %d    #Day of month 01-31    31    \n",
    "+ %b    #Month name, short version    Dec    \n",
    "+ %B    #Month name, full version    December    \n",
    "+ %m    #Month as a number 01-12    12    \n",
    "+ %y    #Year, short version, without century    18    \n",
    "+ %Y    #Year, full version    2018    \n",
    "+ %H    #Hour 00-23    17    \n",
    "+ %I    #Hour 00-12    05    \n",
    "+ %p    #AM/PM    PM    \n",
    "+ %M    #Minute 00-59    41    \n",
    "+ %S    #Second 00-59    08    \n",
    "+ %f    #Microsecond 000000-999999    548513    \n",
    "+ %z    #UTC offset    +0100    \n",
    "+ %Z    #Timezone    CST    \n",
    "+ %j    #Day number of year 001-366    365    \n",
    "+ %U    #Week number of year, Sunday as the first day of week, 00-53    52    \n",
    "+ %W    #Week number of year, Monday as the first day of week, 00-53    52    \n",
    "+ %c    #Local version of date and time    Mon Dec 31 17:41:00 2018    \n",
    "+ %C    #Century    20    \n",
    "+ %x    #Local version of date    12/31/18    \n",
    "+ %X    #Local version of time    17:41:00    \n",
    "+ %%    #A % character    %    \n",
    "+ %G    #ISO 8601 year    2018    \n",
    "+ %u    #ISO 8601 weekday (1-7)    1    \n",
    "+ %V    #ISO 8601 weeknumber (01-53)    01"
   ]
  },
  {
   "cell_type": "markdown",
   "metadata": {},
   "source": [
    "# Math"
   ]
  },
  {
   "cell_type": "code",
   "execution_count": 154,
   "metadata": {},
   "outputs": [
    {
     "name": "stdout",
     "output_type": "stream",
     "text": [
      "5\n",
      "25\n",
      "7.25\n",
      "64\n",
      "2.23606797749979\n",
      "2\n",
      "1\n",
      "3.141592653589793\n"
     ]
    }
   ],
   "source": [
    "x = min(5, 10, 25);\n",
    "y = max(5, 10, 25);\n",
    "\n",
    "print(x);\n",
    "print(y);\n",
    "\n",
    "d = abs(-7.25);\n",
    "print(d);\n",
    "\n",
    "t = pow(4, 3);\n",
    "print(t);\n",
    "\n",
    "import math\n",
    "\n",
    "aa = math.sqrt(x);\n",
    "print(aa); # print(math.sqrt(x));\n",
    "\n",
    "print(math.ceil(1.4));\n",
    "print(math.floor(1.4));\n",
    "\n",
    "print(math.pi);"
   ]
  }
 ],
 "metadata": {
  "kernelspec": {
   "display_name": "Python 3.9.12 ('base')",
   "language": "python",
   "name": "python3"
  },
  "language_info": {
   "codemirror_mode": {
    "name": "ipython",
    "version": 3
   },
   "file_extension": ".py",
   "mimetype": "text/x-python",
   "name": "python",
   "nbconvert_exporter": "python",
   "pygments_lexer": "ipython3",
   "version": "3.9.13"
  },
  "orig_nbformat": 4,
  "vscode": {
   "interpreter": {
    "hash": "a1e05507982cda43677387c3678750a98c6654f5b19fe02c8c680a195e61606f"
   }
  }
 },
 "nbformat": 4,
 "nbformat_minor": 2
}
